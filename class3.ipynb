{
  "nbformat": 4,
  "nbformat_minor": 0,
  "metadata": {
    "colab": {
      "provenance": [],
      "authorship_tag": "ABX9TyMD9EwjAriNB/gBiyfNu6JM",
      "include_colab_link": true
    },
    "kernelspec": {
      "name": "python3",
      "display_name": "Python 3"
    },
    "language_info": {
      "name": "python"
    }
  },
  "cells": [
    {
      "cell_type": "markdown",
      "metadata": {
        "id": "view-in-github",
        "colab_type": "text"
      },
      "source": [
        "<a href=\"https://colab.research.google.com/github/riddhikaa/WCEBleedGen_challenge_Ml_DL/blob/main/class3.ipynb\" target=\"_parent\"><img src=\"https://colab.research.google.com/assets/colab-badge.svg\" alt=\"Open In Colab\"/></a>"
      ]
    },
    {
      "cell_type": "code",
      "execution_count": 4,
      "metadata": {
        "colab": {
          "base_uri": "https://localhost:8080/"
        },
        "id": "3JzuAS_QNLj3",
        "outputId": "c258b62e-45dc-4dc8-ac83-ea54473e7d2b"
      },
      "outputs": [
        {
          "output_type": "stream",
          "name": "stdout",
          "text": [
            "heloossds\n",
            "yeheyehsie \n",
            "hello this is multiline strings using backslash as string connector\n",
            " \n",
            "ye bi multi line    \n",
            "string hai \n",
            "using \n",
            "3 quotation marks\n"
          ]
        }
      ],
      "source": [
        "# STRINGS IN PYTHON\n",
        "\n",
        "# single line strings\n",
        "str1='heloossds'\n",
        "str2=\"yeheyehsie \"\n",
        "print(str1)\n",
        "print(str2)\n",
        "#multiline strings\n",
        "\n",
        "#ye single line hi dega in output\n",
        "str3=\"hello \"\\\n",
        "\"this is \"\\\n",
        "\"multiline strings \"\\\n",
        "\"using backslash as string \"\\\n",
        "\"connector\"\n",
        "print(str3)\n",
        "\n",
        "#ye paragraph format m de dega\n",
        "str4='''\n",
        "ye bi multi line\n",
        "string hai\n",
        "using\n",
        "3 quotation marks'''\n",
        "print(str4)"
      ]
    },
    {
      "cell_type": "code",
      "source": [
        "''' ACCESSING STRINGS AND SLICING\n",
        "-> strings are immutable that is no modification is allowed\n",
        "    str[4]='k' ye ni hoga\n",
        "\n",
        "-> slicing happens from left to right\n",
        "\n",
        "->indexing in string\n",
        "left to right = zero based indexing\n",
        "right to left = -1 ,-2... indexing\n",
        "\n",
        "-> space is also included as character in string\n",
        "\n",
        " '''\n",
        "str=\"123456789\"\n",
        "print(str[5]) # accessing strings\n",
        "print(str[-3])\n",
        "print(str[::3]) #har 3rd element ko print karega  op=147\n",
        "print(str[1:7:2]) #positive slicing -> str[start:end:no of jumps] start is included , end is excluded op= 246\n",
        "print(str[-5:-1:2]) #negative slicing -> str[start:end:no of jumps] start is excluded , end is included op= 57\n",
        "print(str[::-1]) #reversing of string by slicing"
      ],
      "metadata": {
        "colab": {
          "base_uri": "https://localhost:8080/"
        },
        "id": "Jr9_WK4_QnQB",
        "outputId": "196c54a5-c224-400d-f7ca-a15afc14c592"
      },
      "execution_count": 28,
      "outputs": [
        {
          "output_type": "stream",
          "name": "stdout",
          "text": [
            "6\n",
            "7\n",
            "147\n",
            "246\n",
            "57\n",
            "987654321\n"
          ]
        }
      ]
    },
    {
      "cell_type": "code",
      "source": [
        "d={'a':1,'b':2}\n",
        "d.update({'b':3,'c':4})\n",
        "print(d)"
      ],
      "metadata": {
        "colab": {
          "base_uri": "https://localhost:8080/"
        },
        "id": "_6yv9umOUGhm",
        "outputId": "5abd66ea-643e-4ea3-e210-47e140db3f7a"
      },
      "execution_count": 41,
      "outputs": [
        {
          "output_type": "stream",
          "name": "stdout",
          "text": [
            "{'a': 1, 'b': 3, 'c': 4}\n"
          ]
        }
      ]
    },
    {
      "cell_type": "code",
      "source": [
        "z=complex(1.25)\n",
        "print(z)"
      ],
      "metadata": {
        "colab": {
          "base_uri": "https://localhost:8080/"
        },
        "id": "QiVtknWfmsqY",
        "outputId": "4e765100-3897-4d86-e394-b88e8c8ac84b"
      },
      "execution_count": 43,
      "outputs": [
        {
          "output_type": "stream",
          "name": "stdout",
          "text": [
            "(1.25+0j)\n"
          ]
        }
      ]
    },
    {
      "cell_type": "code",
      "source": [
        "z"
      ],
      "metadata": {
        "id": "3QfKeS4spV90"
      },
      "execution_count": null,
      "outputs": []
    }
  ]
}